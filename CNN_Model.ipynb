{
  "nbformat": 4,
  "nbformat_minor": 0,
  "metadata": {
    "kernelspec": {
      "display_name": "Python 3",
      "language": "python",
      "name": "python3"
    },
    "language_info": {
      "codemirror_mode": {
        "name": "ipython",
        "version": 3
      },
      "file_extension": ".py",
      "mimetype": "text/x-python",
      "name": "python",
      "nbconvert_exporter": "python",
      "pygments_lexer": "ipython3",
      "version": "3.7.3"
    },
    "colab": {
      "name": "Copy of CNN_Model.ipynb",
      "version": "0.3.2",
      "provenance": [],
      "include_colab_link": true
    }
  },
  "cells": [
    {
      "cell_type": "markdown",
      "metadata": {
        "id": "view-in-github",
        "colab_type": "text"
      },
      "source": [
        "<a href=\"https://colab.research.google.com/github/emil-d/bioinf-proj/blob/master/CNN_Model.ipynb\" target=\"_parent\"><img src=\"https://colab.research.google.com/assets/colab-badge.svg\" alt=\"Open In Colab\"/></a>"
      ]
    },
    {
      "cell_type": "code",
      "metadata": {
        "id": "xTe8YH0Ff88t",
        "colab_type": "code",
        "colab": {}
      },
      "source": [
        "import requests\n",
        "import json\n",
        "import re\n",
        "import tarfile\n",
        "import os\n",
        "import shutil\n",
        "from pathlib import Path\n",
        "\n",
        "import pandas as pd\n",
        "import numpy as np\n",
        "\n",
        "from PIL import Image\n",
        "\n",
        "import matplotlib\n",
        "import matplotlib.pyplot as plt"
      ],
      "execution_count": 0,
      "outputs": []
    },
    {
      "cell_type": "code",
      "metadata": {
        "id": "pXogX9bdf882",
        "colab_type": "code",
        "colab": {}
      },
      "source": [
        "def getData(disease_type=[\"Adenomas and Adenocarcinomas\",\"Squamous Cell Neoplasms\"], path=\".\", file_n=2, unzip=True):\n",
        "    #Query example:\n",
        "    #cases.disease_type in [\"Adenomas and Adenocarcinomas\",\"Squamous Cell Neoplasms\"] \n",
        "    #and cases.primary_site in [\"Bronchus and lung\"] \n",
        "    #and files.data_category in [\"DNA Methylation\"] \n",
        "    #and files.platform in [\"Illumina Human Methylation 450\"] \n",
        "    #and cases.samples.sample_type in [\"Primary Tumor\",\"Recurrent Tumor\"]\n",
        "    \n",
        "    files_endpt = \"https://api.gdc.cancer.gov/files\"\n",
        "    \n",
        "    filters = {\n",
        "        \"op\": \"and\",\n",
        "        \"content\":[\n",
        "            {\n",
        "            \"op\": \"in\",\n",
        "            \"content\":{\n",
        "                \"field\": \"cases.disease_type\",\n",
        "                \"value\": disease_type \n",
        "                }\n",
        "            },\n",
        "            {\n",
        "            \"op\": \"in\",\n",
        "            \"content\":{\n",
        "                \"field\": \"cases.primary_site\",\n",
        "                \"value\": [\"Bronchus and lung\"] \n",
        "                }\n",
        "            },\n",
        "            {\n",
        "            \"op\": \"in\",\n",
        "            \"content\":{\n",
        "                \"field\": \"files.data_category\",\n",
        "                \"value\": [\"DNA Methylation\"] \n",
        "                }\n",
        "            },\n",
        "            {\n",
        "            \"op\": \"in\",\n",
        "            \"content\":{\n",
        "                \"field\": \"files.platform\",\n",
        "                \"value\": [\"Illumina Human Methylation 450\"]  \n",
        "                }\n",
        "            },\n",
        "            {\n",
        "            \"op\": \"in\",\n",
        "            \"content\":{\n",
        "                \"field\": \"cases.samples.sample_type\",\n",
        "                \"value\": [\"Primary Tumor\",\"Recurrent Tumor\"]  \n",
        "                }\n",
        "            }           \n",
        "        ]\n",
        "    }\n",
        "    \n",
        "    # A POST is used, so the filter parameters can be passed directly as a Dict object.\n",
        "    params = {\n",
        "        \"filters\": filters,\n",
        "        \"fields\": \"file_id\",\n",
        "        \"format\": \"JSON\",\n",
        "        \"size\": file_n\n",
        "        }\n",
        "    \n",
        "    # The parameters are passed to 'json' rather than 'params' in this case\n",
        "    response = requests.post(files_endpt,\n",
        "                             headers = {\"Content-Type\": \"application/json\"}, \n",
        "                             json = params)\n",
        "    #print(response.content.decode(\"utf-8\"))\n",
        "    \n",
        "    file_uuid_list = []\n",
        "\n",
        "    # This step populates the download list with the file_ids from the previous query\n",
        "    # JSON format is { \"data\": { \"hits\": [\"file_id\":\"...\", \"id\":\"...\" ] } }\n",
        "    for file_entry in json.loads(response.content.decode(\"utf-8\"))[\"data\"][\"hits\"]:\n",
        "        file_uuid_list.append(file_entry[\"file_id\"])\n",
        "        \n",
        "    print(\"list of files to be downloaded:\\n\",file_uuid_list)\n",
        "    \n",
        "    data_endpt = \"https://api.gdc.cancer.gov/data\"\n",
        "    \n",
        "    params = {\"ids\": file_uuid_list}\n",
        "    \n",
        "    print(\"download in progress...\")\n",
        "    #query data corresponding to file ids\n",
        "    response = requests.post(data_endpt, \n",
        "                             data = json.dumps(params), \n",
        "                             headers = {\"Content-Type\": \"application/json\"}\n",
        "                             )\n",
        "\n",
        "    \n",
        "    response_head_cd = response.headers[\"Content-Disposition\"]\n",
        "    #print(\"resp headers\", response.headers)\n",
        "    file_name = path+\"/\"+ re.findall(\"filename=(.+)\", response_head_cd)[0]\n",
        "    #print(\"filename \",file_name)\n",
        "    with open(file_name, \"wb\") as output_file:\n",
        "        output_file.write(response.content)\n",
        "    print(\"data downloaded\")\n",
        "    \n",
        "    if unzip: \n",
        "        print(\"extracting data...\")\n",
        "        unzipFile(file_name, path)\n",
        "        extractFilesFromDirs(file_uuid_list, path)\n",
        "        print(\"data extracted\")\n",
        "        #os.remove(file_name)\n",
        "        #os.remove(path+\"MANIFEST.txt\")\n",
        "     \n",
        "        \n",
        "    \n",
        "def unzipFile(fname,path=\".\"):\n",
        "    if (fname.endswith(\"tar.gz\")):\n",
        "        tar = tarfile.open(fname, \"r:gz\")\n",
        "        tar.extractall(path=path)\n",
        "        tar.close()\n",
        "    elif (fname.endswith(\"tar\")):\n",
        "        tar = tarfile.open(fname, \"r:\")\n",
        "        tar.extractall(path=path)\n",
        "        tar.close()\n",
        "    \n",
        "def extractFilesFromDirs(dir_list, path=\".\"):\n",
        "    #extract downloaded and unzipped files from directories \n",
        "    #in path, whose name is in dir_list\n",
        "    for dir in dir_list:\n",
        "        filepath= path+\"/\"+dir\n",
        "        #print(filepath)\n",
        "        for root, dirs, files in os.walk(filepath, topdown=False):\n",
        "            for file in files:\n",
        "                try:\n",
        "                    #print(file)\n",
        "                    shutil.move(filepath+\"/\"+file, path+\"/\"+file)\n",
        "                except OSError:\n",
        "                    pass\n",
        "                #delete directories\n",
        "                shutil.rmtree(filepath)\n",
        "                \n",
        "def getDataToFolder(disease_types=[\"Adenomas and Adenocarcinomas\",\"Squamous Cell Neoplasms\"], path=\".\", file_n=2, unzip=True):\n",
        "    for disease_type in disease_types:\n",
        "        outputDir = (path + \"/{}/\").format(disease_type)\n",
        "        #create category folder (every category must have their folder)\n",
        "        if not os.path.isdir(outputDir):\n",
        "            os.makedirs(outputDir)\n",
        "        getData(disease_type,path=outputDir,file_n=file_n,unzip=unzip)"
      ],
      "execution_count": 0,
      "outputs": []
    },
    {
      "cell_type": "code",
      "metadata": {
        "id": "TD-1rZD-f887",
        "colab_type": "code",
        "colab": {}
      },
      "source": [
        "path = Path(\"./data\")  "
      ],
      "execution_count": 0,
      "outputs": []
    },
    {
      "cell_type": "code",
      "metadata": {
        "scrolled": false,
        "id": "eUfyv8ujf88_",
        "colab_type": "code",
        "outputId": "c65d688a-0c82-40b8-b408-dbd1765386de",
        "colab": {
          "base_uri": "https://localhost:8080/",
          "height": 221
        }
      },
      "source": [
        "getDataToFolder(path=str(path),file_n= 1)"
      ],
      "execution_count": 0,
      "outputs": [
        {
          "output_type": "stream",
          "text": [
            "list of files to be downloaded:\n",
            " ['8773847f-5b07-40a7-a214-bbe194c8543f']\n",
            "download in progress...\n",
            "data downloaded\n",
            "extracting data...\n",
            "data extracted\n",
            "list of files to be downloaded:\n",
            " ['bd2c1469-848e-4fc3-8fe1-9d96c073eabd']\n",
            "download in progress...\n",
            "data downloaded\n",
            "extracting data...\n",
            "data extracted\n"
          ],
          "name": "stdout"
        }
      ]
    },
    {
      "cell_type": "code",
      "metadata": {
        "id": "IapZupuvf89G",
        "colab_type": "code",
        "colab": {}
      },
      "source": [
        "def import_and_filter_data(path, files):\n",
        "    dfs = []\n",
        "    na_vals = \".\"\n",
        "    column_names = [\"Composite\", \"Beta_value\", \"Chromosome\", \"Start\", \"End\", \"Gene_Symbol\", \"Gene_Type\", \"Transcript_ID\", \"Position_to_TSS\", \"CGI_Coordinate\", \"Feature_Type\"]\n",
        "    #column_names = [\"Composite\", \"Beta_value\"]\n",
        "    for file in files:\n",
        "        df = pd.read_csv(os.path.join(path, file), sep= \"\\t\",header = None, names = column_names,skiprows= 0, na_values = na_vals)\n",
        "        # Elimino tutte le righe che non hanno Composite che inizia per \"cg*\"\n",
        "        patternDel = \"^cg\"\n",
        "        filter = df['Composite'].str.contains(patternDel)\n",
        "        #print(filter)\n",
        "        df = df[filter]\n",
        "        dfs.append(df)\n",
        "    return dfs\n",
        "\n",
        "def create_images(dfs,path,disease_type,files):\n",
        "    w, h, d  = 402, 402, 3\n",
        "    category_name = disease_type #name of category\n",
        "    outputDir = path + \"/image/{}/\".format(category_name)\n",
        "    if not os.path.isdir(outputDir):\n",
        "        os.makedirs(outputDir)\n",
        "    # Transform data to image and save\n",
        "    index = 0\n",
        "    for df in dfs:\n",
        "        vect = df.Beta_value.fillna(0).to_numpy().astype(np.double)\n",
        "        ima = np.concatenate([vect,np.zeros(w*h*d-len(df))]).reshape(w,h,d)\n",
        "        img = Image.fromarray(ima, 'RGB')\n",
        "        img.save(outputDir+\"{}.png\".format(files[index]))\n",
        "        index+=1\n",
        "\n",
        "disease_types = [\"Adenomas and Adenocarcinomas\",\"Squamous Cell Neoplasms\"]\n",
        "for disease_type in disease_types :\n",
        "    disease_type_path = os.path.join(path, disease_type)\n",
        "    files = [f for f in os.listdir(disease_type_path) if os.path.isfile(os.path.join(disease_type_path, f))]\n",
        "    dfs = import_and_filter_data(disease_type_path,files)\n",
        "    create_images(dfs,path,disease_type,files)\n",
        "    "
      ],
      "execution_count": 0,
      "outputs": []
    },
    {
      "cell_type": "code",
      "metadata": {
        "id": "cXZX8txYf89L",
        "colab_type": "code",
        "colab": {}
      },
      "source": [
        ""
      ],
      "execution_count": 0,
      "outputs": []
    }
  ]
}